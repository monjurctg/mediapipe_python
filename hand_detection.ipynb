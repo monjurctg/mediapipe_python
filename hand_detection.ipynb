{
 "cells": [
  {
   "cell_type": "code",
   "execution_count": null,
   "id": "c2f8d986",
   "metadata": {},
   "outputs": [],
   "source": [
    "\n"
   ]
  },
  {
   "cell_type": "code",
   "execution_count": 6,
   "id": "3ec25a86",
   "metadata": {},
   "outputs": [],
   "source": [
    "\n",
    "import cv2\n",
    "import mediapipe as  mp\n",
    "cap =cv2.VideoCapture(0)\n",
    "mp_hands = mp.solutions.hands\n",
    "hands = mp_hands.Hands()\n",
    "mp_draw  = mp.solutions.drawing_utils\n",
    "\n",
    "while True:\n",
    "    ret,frame = cap.read()\n",
    "    frame = cv2.flip(frame,1)\n",
    "    if not ret:\n",
    "        exit\n",
    "    height,width,_ = frame.shape\n",
    "    rgb = cv2.cvtColor(frame,cv2.COLOR_RGB2BGR)\n",
    "    results = hands.process(rgb)\n",
    "\n",
    "    if results.multi_hand_landmarks:\n",
    "        for hand_landmarks  in results.multi_hand_landmarks:\n",
    "            mp_draw.draw_landmarks(frame,hand_landmarks,mp_hands.HAND_CONNECTIONS)\n",
    "            lm= hand_landmarks.landmark\n",
    "            # index finger\n",
    "            index_x = int(lm[8].x*width)\n",
    "            index_y = int(lm[8].y*height)\n",
    "            #thumb\n",
    "            thumb_x = int(lm[4].x*width)\n",
    "            thumb_y = int(lm[4].y*height)\n",
    "            cv2.circle(frame, (index_x, index_y), 10, (0, 255, 255), -1)\n",
    "            cv2.circle(frame, (thumb_x, thumb_y), 10, (255, 5, 255), -1)\n",
    "\n",
    "\n",
    "\n",
    "\n",
    "\n",
    "\n",
    "    cv2.imshow(\"hand detect\",frame)\n",
    "    if cv2.waitKey(1)==ord(\"q\"):\n",
    "        break\n",
    "cap.release()\n",
    "cv2.destroyAllWindows()"
   ]
  },
  {
   "cell_type": "code",
   "execution_count": null,
   "id": "17ef8f93",
   "metadata": {},
   "outputs": [],
   "source": []
  }
 ],
 "metadata": {
  "kernelspec": {
   "display_name": "mediapipe_env",
   "language": "python",
   "name": "python3"
  },
  "language_info": {
   "codemirror_mode": {
    "name": "ipython",
    "version": 3
   },
   "file_extension": ".py",
   "mimetype": "text/x-python",
   "name": "python",
   "nbconvert_exporter": "python",
   "pygments_lexer": "ipython3",
   "version": "3.12.10"
  }
 },
 "nbformat": 4,
 "nbformat_minor": 5
}
